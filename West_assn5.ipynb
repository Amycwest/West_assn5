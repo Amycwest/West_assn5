{
 "cells": [
  {
   "cell_type": "code",
   "execution_count": 1,
   "metadata": {},
   "outputs": [
    {
     "name": "stdout",
     "output_type": "stream",
     "text": [
      "West_assn5.ipynb  guest_list.txt    turkey_size.txt\r\n"
     ]
    }
   ],
   "source": [
    "ls"
   ]
  },
  {
   "cell_type": "markdown",
   "metadata": {},
   "source": [
    "# Part 1"
   ]
  },
  {
   "cell_type": "code",
   "execution_count": 2,
   "metadata": {},
   "outputs": [],
   "source": [
    "#open file with guest names and whether they are vegetatian \n",
    "filename='guest_list.txt'\n",
    "\n",
    "with open (filename) as file_object:\n",
    "    guests=file_object.readlines()"
   ]
  },
  {
   "cell_type": "code",
   "execution_count": 3,
   "metadata": {},
   "outputs": [
    {
     "name": "stdout",
     "output_type": "stream",
     "text": [
      "Person\tVegetarian\n",
      "Fred\tNo\n",
      "Jamie\tNo\n",
      "Shelly\tYes\n",
      "Eileen\tNo\n",
      "Willard\tYes\n",
      "Mike\tSometimes\n",
      "Anna\tNo\n",
      "Marie\tYes\n",
      "Marian\tSometimes\n",
      "Jessica\tNo\n",
      "Alan\tNo\n",
      "Rebecca\tNo\n",
      "Bonnie\tNo\n",
      "Mark\tNo\n",
      "Leslie\tYes\n",
      "Rachel\tNo\n",
      "Olivia\tNo\n",
      "Chelsea\tNo\n"
     ]
    }
   ],
   "source": [
    "#take a look at the file\n",
    "for guest in guests:\n",
    "    print(guest.rstrip())"
   ]
  },
  {
   "cell_type": "code",
   "execution_count": 4,
   "metadata": {},
   "outputs": [
    {
     "name": "stdout",
     "output_type": "stream",
     "text": [
      "['Person', 'Fred', 'Jamie', 'Shelly', 'Eileen', 'Willard', 'Mike', 'Anna', 'Marie', 'Marian', 'Jessica', 'Alan', 'Rebecca', 'Bonnie', 'Mark', 'Leslie', 'Rachel', 'Olivia', 'Chelsea']\n",
      "['Vegetarian', 'No', 'No', 'Yes', 'No', 'Yes', 'Sometimes', 'No', 'Yes', 'Sometimes', 'No', 'No', 'No', 'No', 'No', 'Yes', 'No', 'No', 'No']\n"
     ]
    }
   ],
   "source": [
    "#create two empty lists: one for each column\n",
    "guest_person=[]\n",
    "guest_veg=[]\n",
    "\n",
    "#divide guest list file into two separate lists\n",
    "for guest in guests:\n",
    "    stripped_guest=guest.rstrip() #strip extra characters from file\n",
    "    split_guest=stripped_guest.split('\\t') #split into two columns \n",
    "    guest_person.append(split_guest[0]) #put column 0 into the first empty list\n",
    "    guest_veg.append(split_guest[1]) #put column 1 into second empty list\n",
    "    \n",
    "#check out your newly filled lists\n",
    "print(guest_person)\n",
    "print(guest_veg)"
   ]
  },
  {
   "cell_type": "code",
   "execution_count": 5,
   "metadata": {},
   "outputs": [
    {
     "name": "stdout",
     "output_type": "stream",
     "text": [
      "['No', 'No', 'No', 'Sometimes', 'No', 'Sometimes', 'No', 'No', 'No', 'No', 'No', 'No', 'No', 'No']\n"
     ]
    }
   ],
   "source": [
    "#make another empty list\n",
    "turkey_eaters=[]\n",
    "\n",
    "#put just the people eating turkey into the empty list\n",
    "for veg in guest_veg:\n",
    "    if veg=='No' or veg=='Sometimes':\n",
    "        turkey_eaters.append(veg)\n",
    "\n",
    "#check out your newly filled list\n",
    "print(turkey_eaters)\n",
    "    "
   ]
  },
  {
   "cell_type": "code",
   "execution_count": 6,
   "metadata": {},
   "outputs": [
    {
     "name": "stdout",
     "output_type": "stream",
     "text": [
      "There are 14 people eating turkey\n"
     ]
    }
   ],
   "source": [
    "#count the number of turkey eaters from that newly filled list and then make that count a variable\n",
    "turkey_count=len(turkey_eaters)\n",
    "\n",
    "#Tell us how many people are eating turkey!\n",
    "print(f\"There are\", turkey_count, \"people eating turkey\")"
   ]
  },
  {
   "cell_type": "markdown",
   "metadata": {},
   "source": [
    "# Part 2"
   ]
  },
  {
   "cell_type": "code",
   "execution_count": 7,
   "metadata": {},
   "outputs": [
    {
     "name": "stdout",
     "output_type": "stream",
     "text": [
      "Max_Guests\tMin_Pounds\n",
      "\n",
      "4\t5\n",
      "\n",
      "6\t8\n",
      "\n",
      "8\t10\n",
      "\n",
      "10\t13\n",
      "\n",
      "12\t15\n",
      "\n",
      "15\t20\n",
      "\n",
      "20\t25\n",
      "\n"
     ]
    }
   ],
   "source": [
    "#open the file with the turkey sizes\n",
    "filename='turkey_size.txt'\n",
    "\n",
    "with open (filename) as file_object:\n",
    "    size=file_object.readlines()\n",
    "    \n",
    "#check out the file\n",
    "for line in size:\n",
    "    print(line)"
   ]
  },
  {
   "cell_type": "code",
   "execution_count": 8,
   "metadata": {},
   "outputs": [
    {
     "data": {
      "text/plain": [
       "'Max_Guests\\tMin_Pounds\\n'"
      ]
     },
     "execution_count": 8,
     "metadata": {},
     "output_type": "execute_result"
    }
   ],
   "source": [
    "#take out the headings because headings are not integers and make python confused\n",
    "size.pop(0)"
   ]
  },
  {
   "cell_type": "code",
   "execution_count": 9,
   "metadata": {},
   "outputs": [
    {
     "name": "stdout",
     "output_type": "stream",
     "text": [
      "['4', '6', '8', '10', '12', '15', '20']\n",
      "['5', '8', '10', '13', '15', '20', '25']\n"
     ]
    }
   ],
   "source": [
    "#make some more new lists\n",
    "max_guests=[]\n",
    "min_pounds=[]\n",
    "\n",
    "#divide file into two separate lists\n",
    "for line in size:\n",
    "    stripped_size=line.rstrip() #strip extra characters from file\n",
    "    split_size=stripped_size.split('\\t') #split into two columns \n",
    "    max_guests.append(split_size[0]) #put column 0 into the first empty list\n",
    "    min_pounds.append(split_size[1]) #put column 1 into second empty list\n",
    "    \n",
    "#check out your newly filled lists\n",
    "print(max_guests)\n",
    "print(min_pounds)"
   ]
  },
  {
   "cell_type": "code",
   "execution_count": 10,
   "metadata": {},
   "outputs": [
    {
     "name": "stdout",
     "output_type": "stream",
     "text": [
      "For 14 guests, you need a 20 pound turkey\n"
     ]
    }
   ],
   "source": [
    "#Make a counter to keep cells from the two lists in sync\n",
    "count=0\n",
    "\n",
    "#loop through the number of guests \n",
    "for line in max_guests:\n",
    "    if int(line) >= turkey_count: #compare your number of guests to the max_guest list\n",
    "        print(f\"For\",turkey_count,\"guests, you need a\",min_pounds[count], \"pound turkey\") #print the cooresponding pound for the number of guests\n",
    "        break\n",
    "    count=count+1 #increase counter size\n",
    "    \n",
    "#What if my number of guests exceeds the amount on Butterball's list?\n",
    "if turkey_count >20: #compare your guest number to the max-number of guests on Butterball's list\n",
    "        print (\"You need two turkeys\")\n",
    "\n"
   ]
  },
  {
   "cell_type": "markdown",
   "metadata": {},
   "source": [
    "# Part 3"
   ]
  },
  {
   "cell_type": "code",
   "execution_count": 11,
   "metadata": {},
   "outputs": [
    {
     "name": "stdout",
     "output_type": "stream",
     "text": [
      "Person\tVegetarian\n",
      "Fred\tNo\n",
      "Jamie\tNo\n",
      "Shelly\tYes\n",
      "Eileen\tNo\n",
      "Willard\tYes\n",
      "Mike\tSometimes\n",
      "Anna\tNo\n",
      "Marie\tYes\n",
      "Marian\tSometimes\n",
      "Jessica\tNo\n",
      "Alan\tNo\n",
      "Rebecca\tNo\n",
      "Bonnie\tNo\n",
      "Mark\tNo\n",
      "Leslie\tYes\n",
      "Rachel\tNo\n",
      "Olivia\tNo\n",
      "Chelsea\tNo\n"
     ]
    }
   ],
   "source": [
    "#open file with guest names and whether they are vegetatian \n",
    "filename='guest_list.txt'\n",
    "\n",
    "with open (filename) as file_object:\n",
    "    guests=file_object.readlines()\n",
    "    \n",
    "#take a look at the file\n",
    "\n",
    "for guest in guests:\n",
    "    print(guest.rstrip())"
   ]
  },
  {
   "cell_type": "code",
   "execution_count": 12,
   "metadata": {},
   "outputs": [],
   "source": [
    "#append your additional guests\n",
    "guests.append('Larry\\tNo\\n')\n",
    "guests.append('Moe\\tYes\\n')\n",
    "guests.append('Curly\\tSometimes\\n')"
   ]
  },
  {
   "cell_type": "code",
   "execution_count": 13,
   "metadata": {},
   "outputs": [
    {
     "name": "stdout",
     "output_type": "stream",
     "text": [
      "Person\tVegetarian\n",
      "Fred\tNo\n",
      "Jamie\tNo\n",
      "Shelly\tYes\n",
      "Eileen\tNo\n",
      "Willard\tYes\n",
      "Mike\tSometimes\n",
      "Anna\tNo\n",
      "Marie\tYes\n",
      "Marian\tSometimes\n",
      "Jessica\tNo\n",
      "Alan\tNo\n",
      "Rebecca\tNo\n",
      "Bonnie\tNo\n",
      "Mark\tNo\n",
      "Leslie\tYes\n",
      "Rachel\tNo\n",
      "Olivia\tNo\n",
      "Chelsea\tNo\n",
      "Larry\tNo\n",
      "Moe\tYes\n",
      "Curly\tSometimes\n"
     ]
    }
   ],
   "source": [
    "#Check out if guests were appended\n",
    "for guest in guests:\n",
    "    print(guest.rstrip())"
   ]
  },
  {
   "cell_type": "code",
   "execution_count": 14,
   "metadata": {},
   "outputs": [
    {
     "name": "stdout",
     "output_type": "stream",
     "text": [
      "There are 16 people eating turkey\n",
      "For 16 guests, you need a 25 pound turkey\n"
     ]
    }
   ],
   "source": [
    "#run the code again (some print funtions were removed for cleaner looking output)\n",
    "\n",
    "#create two empty lists: one for each column\n",
    "\n",
    "guest_person=[]\n",
    "guest_veg=[]\n",
    "\n",
    "#divide guest list file into two separate lists\n",
    "for guest in guests:\n",
    "    stripped_guest=guest.rstrip() #strip extra characters from file\n",
    "    split_guest=stripped_guest.split('\\t') #split into two columns \n",
    "    guest_person.append(split_guest[0]) #put column 0 into the first empty list\n",
    "    guest_veg.append(split_guest[1]) #put column 1 into second empty list\n",
    "    \n",
    "#make another empty list\n",
    "turkey_eaters=[]\n",
    "\n",
    "#put just the people eating turkey into the empty list\n",
    "for veg in guest_veg:\n",
    "    if veg=='No' or veg=='Sometimes':\n",
    "        turkey_eaters.append(veg)\n",
    "\n",
    "#count the number of turkey eaters from that newly filled list and then make that count a variable\n",
    "turkey_count=len(turkey_eaters)\n",
    "\n",
    "#Tell us how many people are eating turkey!\n",
    "print(f\"There are\", turkey_count, \"people eating turkey\")\n",
    "\n",
    "#open the file with the turkey sizes\n",
    "filename='turkey_size.txt'\n",
    "\n",
    "with open (filename) as file_object:\n",
    "    size=file_object.readlines()\n",
    "        \n",
    "#take out the headings because headings are not integers and make python confused\n",
    "size.pop(0)\n",
    "\n",
    "#make some empty lists\n",
    "max_guests=[]\n",
    "min_pounds=[]\n",
    "\n",
    "#divide guest list file into two separate lists\n",
    "for line in size:\n",
    "    stripped_size=line.rstrip() #strip extra characters from file\n",
    "    split_size=stripped_size.split('\\t') #split into two columns \n",
    "    max_guests.append(split_size[0]) #put column 0 into the first empty list\n",
    "    min_pounds.append(split_size[1]) #put column 1 into second empty list\n",
    "    \n",
    "\n",
    "#Make a counter to keep cells from the two lists in sync\n",
    "count=0\n",
    "\n",
    "#loop through the number of guests \n",
    "for line in max_guests:\n",
    "    if int(line) >= turkey_count: #compare your number of guests to the max_guest list\n",
    "        print(f\"For\",turkey_count,\"guests, you need a\",min_pounds[count], \"pound turkey\") #print the cooresponding pound for the number of guests\n",
    "        break\n",
    "    count=count+1 #increase counter size\n",
    "    \n",
    "#What if my number of guests exceeds the amount on Butterball's list?\n",
    "if turkey_count >20: #compare your guest number to the max-number of guests on Butterball's list\n",
    "        print (\"You need two turkeys\")"
   ]
  },
  {
   "cell_type": "code",
   "execution_count": null,
   "metadata": {},
   "outputs": [],
   "source": []
  }
 ],
 "metadata": {
  "kernelspec": {
   "display_name": "Python 3",
   "language": "python",
   "name": "python3"
  },
  "language_info": {
   "codemirror_mode": {
    "name": "ipython",
    "version": 3
   },
   "file_extension": ".py",
   "mimetype": "text/x-python",
   "name": "python",
   "nbconvert_exporter": "python",
   "pygments_lexer": "ipython3",
   "version": "3.8.3"
  }
 },
 "nbformat": 4,
 "nbformat_minor": 4
}
